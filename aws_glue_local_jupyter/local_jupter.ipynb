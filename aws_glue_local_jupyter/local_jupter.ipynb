{
 "cells": [
  {
   "cell_type": "markdown",
   "metadata": {},
   "source": [
    "## Configure The SparkSession we will be using with magic Cells"
   ]
  },
  {
   "cell_type": "code",
   "execution_count": null,
   "metadata": {},
   "outputs": [
    {
     "name": "stdout",
     "output_type": "stream",
     "text": [
      "Starting Spark application\n"
     ]
    },
    {
     "name": "stderr",
     "output_type": "stream",
     "text": [
      "The code failed because of a fatal error. Some things to try: a) Make sure Spark has enough available resources for Jupyter to create a Spark context. b) Contact your Jupyter administrator to make sure the Spark magics library is configured correctly.   c) Restart the kernel.\n"
     ]
    },
    {
     "data": {
      "text/html": [
       "Current session configs: <tt>{'driverMemory': '2000M', 'executorMemory': '1000M', 'driverCores': 4, 'numExecutors': 4, 'executorCores': 4, 'conf': {'spark.sql.shuffle.partitions': 16, 'spark.memory.fraction': '0.5'}, 'kind': 'pyspark'}</tt><br>"
      ],
      "text/plain": [
       "<IPython.core.display.HTML object>"
      ]
     },
     "metadata": {},
     "output_type": "display_data"
    },
    {
     "ename": "",
     "evalue": "",
     "output_type": "error",
     "traceback": [
      "\u001b[1;31mFailed to restart the Kernel. \n",
      "\u001b[1;31mrequest to http://127.0.0.1:8888/api/kernels/7f20cfeb-1038-4cbf-a854-44fa71b1f78a/restart?1723467520006 failed, reason: connect ECONNREFUSED 127.0.0.1:8888. \n",
      "\u001b[1;31mView Jupyter <a href='command:jupyter.viewOutput'>log</a> for further details."
     ]
    }
   ],
   "source": [
    "%%configure -f \n",
    "{\n",
    "\"driverMemory\" : \"2000M\",\n",
    "\"executorMemory\": \"1000M\",\n",
    "\"driverCores\": 2,\n",
    "\"numExecutors\": 1,\n",
    "\"executorCores\": 1,\n",
    "\"conf\" : {\n",
    "    \"spark.sql.shuffle.partitions\":16,\n",
    "    \"spark.memory.fraction\":\"0.5\"\n",
    "    }\n",
    "}"
   ]
  },
  {
   "cell_type": "markdown",
   "metadata": {},
   "source": [
    "## It will intialize automatically a spark Session under  'spark' variable"
   ]
  },
  {
   "cell_type": "code",
   "execution_count": null,
   "metadata": {},
   "outputs": [
    {
     "name": "stderr",
     "output_type": "stream",
     "text": [
      "The code failed because of a fatal error. Some things to try: a) Make sure Spark has enough available resources for Jupyter to create a Spark context. b) Contact your Jupyter administrator to make sure the Spark magics library is configured correctly.   c) Restart the kernel.\n"
     ]
    }
   ],
   "source": [
    "import sys\n",
    "from awsglue.transforms import *\n",
    "from awsglue.utils import getResolvedOptions\n",
    "from pyspark.context import SparkContext\n",
    "from awsglue.context import GlueContext\n",
    "from awsglue.job import Job\n",
    "from awsglue.dynamicframe import DynamicFrame\n",
    "from pyspark.sql.functions import col\n",
    "\n",
    "\n",
    "glueContext = GlueContext(spark.sparkContext)\n",
    "\n",
    "job = Job(glueContext)"
   ]
  },
  {
   "cell_type": "code",
   "execution_count": null,
   "metadata": {},
   "outputs": [],
   "source": [
    "input_location = 's3://bucket-name/dataset/prefix'\n",
    "#dask-data/nyc-taxi/nyc-2015.parquet/\n",
    "\n",
    "df = glueContext.create_dynamic_frame.from_options(\n",
    "    connection_type = 's3',\n",
    "    connection_options={'paths':[input_location]},\n",
    "    format='parquet',\n",
    "    # formatOptions=$..*\n",
    ")\n",
    "\n",
    "print('Total Count:')\n",
    "df.count()"
   ]
  }
 ],
 "metadata": {
  "kernelspec": {
   "display_name": "PySpark",
   "language": "python",
   "name": "pysparkkernel"
  }
 },
 "nbformat": 4,
 "nbformat_minor": 2
}
