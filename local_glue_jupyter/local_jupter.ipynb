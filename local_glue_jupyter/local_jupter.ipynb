{
 "cells": [
  {
   "cell_type": "markdown",
   "metadata": {},
   "source": [
    "## Configure The SparkSession we will be using with magic Cells"
   ]
  },
  {
   "cell_type": "code",
   "execution_count": null,
   "metadata": {
    "vscode": {
     "languageId": "python"
    }
   },
   "outputs": [],
   "source": [
    "%%configure -f \n",
    "{\n",
    "\"driverMemory\" : \"2000M\",\n",
    "\"executorMemory\": \"1000M\",\n",
    "\"driverCores\": 4,\n",
    "\"numExecutors\": 4,\n",
    "\"executorCores\": 4,\n",
    "\"conf\" : {\n",
    "    \"spark.sql.shuffle.partitions\":16,\n",
    "    \"spark.memory.fraction\":\"0.5\"\n",
    "    }\n",
    "}"
   ]
  },
  {
   "cell_type": "markdown",
   "metadata": {},
   "source": [
    "## It will intialize automatically a spark Session under  'spark' variable"
   ]
  },
  {
   "cell_type": "code",
   "execution_count": null,
   "metadata": {
    "vscode": {
     "languageId": "python"
    }
   },
   "outputs": [],
   "source": [
    "import sys\n",
    "from awsglue.transforms import *\n",
    "from awsglue.utils import getResolvedOptions\n",
    "from pyspark.context import SparkContext\n",
    "from awsglue.context import GlueContext\n",
    "from awsglue.job import Job\n",
    "from awsglue.dynamicframe import DynamicFrame\n",
    "from pyspark.sql.functions import col\n",
    "\n",
    "\n",
    "glueContext = GlueContext(spark.sparkContext)\n",
    "\n",
    "job = Job(glueContext)"
   ]
  },
  {
   "cell_type": "code",
   "execution_count": null,
   "metadata": {
    "vscode": {
     "languageId": "python"
    }
   },
   "outputs": [],
   "source": [
    "input_location = 's3://bucket-name/dataset/prefix'\n",
    "#dask-data/nyc-taxi/nyc-2015.parquet/\n",
    "\n",
    "df = glueContext.create_dynamic_frame.from_options(\n",
    "    connection_type = 's3',\n",
    "    connection_options={'paths':[input_location]},\n",
    "    format='parquet',\n",
    "    # formatOptions=$..*\n",
    ")\n",
    "\n",
    "print('Total Count:')\n",
    "df.count()"
   ]
  }
 ],
 "metadata": {
  "kernelspec": {
   "display_name": "PySpark",
   "language": "python",
   "name": "pysparkkernel"
  },
  "language_info": {
   "codemirror_mode": {
    "name": "python",
    "version": 3
   },
   "file_extension": ".py",
   "mimetype": "text/x-python",
   "name": "pyspark",
   "pygments_lexer": "python3"
  }
 },
 "nbformat": 4,
 "nbformat_minor": 2
}
