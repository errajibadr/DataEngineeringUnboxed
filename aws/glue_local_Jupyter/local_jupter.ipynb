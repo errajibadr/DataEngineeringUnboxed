{
 "cells": [
  {
   "cell_type": "markdown",
   "metadata": {},
   "source": [
    "## Configure The SparkSession we will be using with magic Cells"
   ]
  },
  {
   "cell_type": "code",
   "execution_count": 5,
   "metadata": {
    "vscode": {
     "languageId": "python"
    }
   },
   "outputs": [
    {
     "data": {
      "text/html": [
       "Current session configs: <tt>{'driverMemory': '2000M', 'executorMemory': '1000M', 'driverCores': 2, 'numExecutors': 1, 'executorCores': 1, 'conf': {'spark.sql.shuffle.partitions': 16, 'spark.memory.fraction': '0.5'}, 'kind': 'pyspark'}</tt><br>"
      ],
      "text/plain": [
       "<IPython.core.display.HTML object>"
      ]
     },
     "metadata": {},
     "output_type": "display_data"
    },
    {
     "name": "stderr",
     "output_type": "stream",
     "text": [
      "An error was encountered:\n",
      "Error sending http request and maximum retry encountered.\n"
     ]
    }
   ],
   "source": [
    "%%configure -f \n",
    "{\n",
    "\"driverMemory\" : \"2000M\",\n",
    "\"executorMemory\": \"1000M\",\n",
    "\"driverCores\": 2,\n",
    "\"numExecutors\": 1,\n",
    "\"executorCores\": 1,\n",
    "\"conf\" : {\n",
    "    \"spark.sql.shuffle.partitions\":16,\n",
    "    \"spark.memory.fraction\":\"0.5\"\n",
    "    }\n",
    "}"
   ]
  },
  {
   "cell_type": "markdown",
   "metadata": {},
   "source": [
    "## It will intialize automatically a spark Session under  'spark' variable"
   ]
  },
  {
   "cell_type": "code",
   "execution_count": 6,
   "metadata": {
    "vscode": {
     "languageId": "python"
    }
   },
   "outputs": [
    {
     "name": "stderr",
     "output_type": "stream",
     "text": [
      "The code failed because of a fatal error. Some things to try: a) Make sure Spark has enough available resources for Jupyter to create a Spark context. b) Contact your Jupyter administrator to make sure the Spark magics library is configured correctly.   c) Restart the kernel.\n"
     ]
    }
   ],
   "source": [
    "import sys\n",
    "from awsglue.transforms import *\n",
    "from awsglue.utils import getResolvedOptions\n",
    "from pyspark.context import SparkContext\n",
    "from awsglue.context import GlueContext\n",
    "from awsglue.job import Job\n",
    "from awsglue.dynamicframe import DynamicFrame\n",
    "from pyspark.sql.functions import col\n",
    "\n",
    "\n",
    "glueContext = GlueContext(spark.sparkContext)\n",
    "\n",
    "job = Job(glueContext)"
   ]
  },
  {
   "cell_type": "code",
   "execution_count": null,
   "metadata": {
    "vscode": {
     "languageId": "python"
    }
   },
   "outputs": [],
   "source": [
    "input_location = 's3://bucket-name/dataset/prefix'\n",
    "#dask-data/nyc-taxi/nyc-2015.parquet/\n",
    "\n",
    "df = glueContext.create_dynamic_frame.from_options(\n",
    "    connection_type = 's3',\n",
    "    connection_options={'paths':[input_location]},\n",
    "    format='parquet',\n",
    "    # formatOptions=$..*\n",
    ")\n",
    "\n",
    "print('Total Count:')\n",
    "df.count()"
   ]
  }
 ],
 "metadata": {
  "kernelspec": {
   "display_name": "PySpark",
   "language": "python",
   "name": "pysparkkernel"
  },
  "language_info": {
   "codemirror_mode": {
    "name": "python",
    "version": 3
   },
   "file_extension": ".py",
   "mimetype": "text/x-python",
   "name": "pyspark",
   "pygments_lexer": "python3"
  }
 },
 "nbformat": 4,
 "nbformat_minor": 2
}
